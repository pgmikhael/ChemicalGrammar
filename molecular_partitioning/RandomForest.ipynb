{
 "cells": [
  {
   "cell_type": "code",
   "execution_count": 1,
   "id": "481d3335",
   "metadata": {},
   "outputs": [],
   "source": [
    "import numpy as np \n",
    "import pandas as pd\n",
    "from rdkit import Chem, DataStructs\n",
    "from rdkit.Chem import Draw, CanonSmiles\n",
    "from matplotlib import pyplot as plt\n",
    "from sklearn.manifold import TSNE\n",
    "from sklearn.cluster import KMeans\n",
    "\n",
    "import csv\n",
    "from sklearn.ensemble import RandomForestClassifier\n",
    "import sklearn.metrics as skm\n",
    "from collections import defaultdict\n",
    "\n",
    "import copy\n",
    "import os\n",
    "import pickle\n",
    "from rich import print as rprint"
   ]
  },
  {
   "attachments": {},
   "cell_type": "markdown",
   "id": "5668750c",
   "metadata": {
    "tags": []
   },
   "source": [
    "# Train and Save Random Forest Models"
   ]
  },
  {
   "attachments": {},
   "cell_type": "markdown",
   "id": "2edee933-a112-49dc-9656-11366b768714",
   "metadata": {},
   "source": [
    "## Functions"
   ]
  },
  {
   "cell_type": "code",
   "execution_count": 45,
   "id": "c7a78a34",
   "metadata": {},
   "outputs": [],
   "source": [
    "def get_train_data(pdict, tau):\n",
    "    df= pd.read_csv(pdict['path'])\n",
    "    molecules = [Chem.MolFromSmiles(s) for s in df[pdict['col']] ]\n",
    "    fingers = [Chem.RDKFingerprint(x) for x in molecules]\n",
    "    X = np.stack([np.array(x) for x in fingers])\n",
    "    y = np.array(df[tau])\n",
    "    return X, y\n",
    "\n",
    "def get_test_data(pdict):\n",
    "    df= pd.read_csv(pdict['path'])\n",
    "    molecules = [Chem.MolFromSmiles(s) for s in df[pdict['col']] ]\n",
    "    fingers = [Chem.RDKFingerprint(x) for x in molecules]\n",
    "    X = np.stack([np.array(x) for x in fingers])\n",
    "    return X\n",
    "\n",
    "def train_test_split(X,y,train_frac=0.9):\n",
    "    n = len(y)\n",
    "    indx = np.random.permutation(n)\n",
    "    ntr = int(np.floor(n*train_frac))\n",
    "    Xtrain, Xtest = X[indx[0:ntr],:], X[indx[ntr:],:]\n",
    "    ytrain, ytest = y[indx[0:ntr]], y[indx[ntr:]]\n",
    "    return Xtrain, ytrain, Xtest, ytest\n",
    "\n",
    "def train_and_save(X,y, tau, split_prob = 0.9, **kwargs):\n",
    "    Xtrain, ytrain, Xtest, ytest = train_test_split(X,y, split_prob)\n",
    "    \n",
    "    yb_train = ytrain.astype(int) # binarized 0/1 partition ratio\n",
    "    yb_test = ytest.astype(int)\n",
    "\n",
    "    cls = RandomForestClassifier(**kwargs)\n",
    "    cls.fit(Xtrain,yb_train)\n",
    "\n",
    "    ybh_test = cls.predict(Xtest)\n",
    "    acc_test = np.mean((yb_test==ybh_test).astype(int))\n",
    "\n",
    "    ph_test = cls.predict_proba(Xtest)[:,1] # prob y=1    \n",
    "    score = skm.roc_auc_score(yb_test,ph_test)\n",
    "    output = {'acc': acc_test, 'auc': score}\n",
    "    print('-- Validation Results {}: {}'.format(tau, output))\n",
    "    return cls\n",
    "\n",
    "def train(train_dataset_dict):\n",
    "    classifiers = {}\n",
    "    for protein, pdict in train_dataset_dict.items():\n",
    "        print('Training on {}'.format(protein))\n",
    "        th_set = pdict['thresholds']\n",
    "        abbrevs = pdict['abbreviations']\n",
    "        for tau, abv in zip(th_set, abbrevs):\n",
    "            X,y = get_train_data(pdict, tau)\n",
    "            classifiers['{}_{}'.format(protein, abv)] = train_and_save(X,y, tau, split_prob, **myargs)\n",
    "        print()\n",
    "    return classifiers\n",
    "    \n",
    "def test(dataset_dict, classifiers):\n",
    "    results = {protein: {} for protein in dataset_dict.keys()}\n",
    "    for protein, pdict in dataset_dict.items():\n",
    "        print('Testing on {}'.format(protein))\n",
    "        X = get_test_data(pdict)\n",
    "        for cls_name, cls in classifiers.items():\n",
    "            results[protein][cls_name] = classifiers[cls_name].predict(X) \n",
    "            # classifiers[cls_name].predict_proba(X) to get probabilities\n",
    "    return results\n",
    "\n",
    "def ensemble_chemprop_rf(train_dataset_dict, test_dataset_dict, rf_results, use_random_forest_preds = True):\n",
    "    ensemble_preds= {}\n",
    "    for setname, protein_results in rf_results.items():\n",
    "        for task_name, rf_preds in protein_results.items():\n",
    "            \n",
    "            protein, abv = task_name.split('_')\n",
    "            \n",
    "            dl_filepath = os.path.join(test_dataset_dict[setname]['dl_predictions_dir'], '{}.csv'.format(task_name.lower()) ) \n",
    "            if not os.path.exists(dl_filepath):\n",
    "                rprint(f\"{dl_filepath} NOT FOUND\")\n",
    "                continue \n",
    "            \n",
    "            dl_pred = pd.read_csv(dl_filepath)\n",
    "            i = train_dataset_dict[protein]['abbreviations'].index(abv)\n",
    "            k = train_dataset_dict[protein]['thresholds'][i]\n",
    "            tau = train_dataset_dict[protein]['numerical_thresholds'][i]\n",
    "            dl_pred = np.array(dl_pred[k]) > 0.5\n",
    "            if use_random_forest_preds:\n",
    "                combo_pred = np.logical_and(rf_preds, dl_pred).tolist()\n",
    "            else:\n",
    "                combo_pred = dl_pred.tolist()\n",
    "            ensemble_preds['{}>{}'.format(protein, tau)] = combo_pred\n",
    "    return ensemble_preds"
   ]
  },
  {
   "cell_type": "code",
   "execution_count": 37,
   "id": "c011c2dc",
   "metadata": {},
   "outputs": [],
   "source": [
    "TRAIN_DATASET = {\n",
    "    'MED1': {\n",
    "        'path': 'YoungLab/droplets0521/MED1_dataset.csv',\n",
    "        'thresholds': ['Threshold1', 'Threshold2', 'Threshold3'],\n",
    "        'numerical_thresholds': [8.0, 5.4, 2.7],\n",
    "        'abbreviations': ['tau1', 'tau2', 'tau3'],\n",
    "        'col': 'SMILES'\n",
    "        },\n",
    "    'NPM1': {\n",
    "        'path': 'YoungLab/droplets0521/NPM1_dataset.csv',\n",
    "        'thresholds': ['Threshold1', 'Threshold2', 'Threshold3'],\n",
    "        'numerical_thresholds': [4.5, 3.5, 2.7],\n",
    "        'abbreviations': ['tau1', 'tau2', 'tau3'],\n",
    "        'col': 'SMILES'\n",
    "        },\n",
    "    'HP1a': {\n",
    "        'path': 'YoungLab/droplets0521/HP1a_dataset.csv',\n",
    "        'thresholds': ['Threshold1', 'Threshold2', 'Threshold3'],\n",
    "        'numerical_thresholds': [3.4, 2.7, 2.0],\n",
    "        'abbreviations': ['tau1', 'tau2', 'tau3'],\n",
    "        'col': 'SMILES'\n",
    "        },\n",
    "    'Nucleocapsid': {\n",
    "        'path': 'YoungLab/droplets0521/Nucleocapsid_dataset.csv',\n",
    "        'thresholds': ['HighThreshold', 'MediumThreshold', 'LowThreshold'],\n",
    "        'numerical_thresholds': ['HighThreshold', 'MediumThreshold', 'LowThreshold'],\n",
    "        'abbreviations': ['high', 'med', 'low'],\n",
    "        'col': 'SMILES'\n",
    "        }\n",
    "}"
   ]
  },
  {
   "attachments": {},
   "cell_type": "markdown",
   "id": "a14dc8e5-9a54-4acf-bc9e-60c77c0945f0",
   "metadata": {
    "jp-MarkdownHeadingCollapsed": true,
    "tags": []
   },
   "source": [
    "## Train"
   ]
  },
  {
   "cell_type": "code",
   "execution_count": 13,
   "id": "f2417429",
   "metadata": {},
   "outputs": [],
   "source": [
    "myargs = {\"n_estimators\":200, \"oob_score\":True,\\\n",
    "          \"min_samples_leaf\":2, \"n_jobs\":4}\n",
    "split_prob = 0.9"
   ]
  },
  {
   "cell_type": "code",
   "execution_count": 14,
   "id": "1ec98509",
   "metadata": {},
   "outputs": [
    {
     "name": "stdout",
     "output_type": "stream",
     "text": [
      "Training on MED1\n",
      "-- Validation Results Threshold1: {'acc': 0.991304347826087, 'auc': 0.7719298245614035}\n",
      "-- Validation Results Threshold2: {'acc': 0.8173913043478261, 'auc': 0.8746666666666667}\n",
      "-- Validation Results Threshold3: {'acc': 0.8521739130434782, 'auc': 0.8572841133816743}\n",
      "\n",
      "Training on NPM1\n",
      "-- Validation Results Threshold1: {'acc': 0.9716981132075472, 'auc': 0.45714285714285713}\n",
      "-- Validation Results Threshold2: {'acc': 0.9245283018867925, 'auc': 0.9193262411347518}\n",
      "-- Validation Results Threshold3: {'acc': 0.8773584905660378, 'auc': 0.8493647912885662}\n",
      "\n",
      "Training on HP1a\n",
      "-- Validation Results Threshold1: {'acc': 0.979381443298969, 'auc': 0.9791666666666666}\n",
      "-- Validation Results Threshold2: {'acc': 0.8969072164948454, 'auc': 0.8144820295983088}\n",
      "-- Validation Results Threshold3: {'acc': 0.7628865979381443, 'auc': 0.7978835978835979}\n",
      "\n",
      "Training on Nucleocapsid\n",
      "-- Validation Results HighThreshold: {'acc': 0.8333333333333334, 'auc': 0.8626453488372093}\n",
      "-- Validation Results MediumThreshold: {'acc': 0.7450980392156863, 'auc': 0.8279194078947367}\n",
      "-- Validation Results LowThreshold: {'acc': 0.7745098039215687, 'auc': 0.8653549382716049}\n",
      "\n"
     ]
    }
   ],
   "source": [
    "classifiers = train(TRAIN_DATASET)"
   ]
  },
  {
   "cell_type": "code",
   "execution_count": 17,
   "id": "0c310a56-3a72-498e-980c-87b527fd7068",
   "metadata": {},
   "outputs": [],
   "source": [
    "pickle.dump(classifiers, open(\"YoungLab/droplets0521/droplet_models/random_forest.p\", \"wb\"))"
   ]
  },
  {
   "attachments": {},
   "cell_type": "markdown",
   "id": "6ead8473",
   "metadata": {},
   "source": [
    "# Eval classifiers"
   ]
  },
  {
   "attachments": {},
   "cell_type": "markdown",
   "id": "0eeaa241-48c1-4749-bd9c-8141545b08c2",
   "metadata": {
    "jp-MarkdownHeadingCollapsed": true,
    "tags": []
   },
   "source": [
    "## Load RandomForest Classifiers"
   ]
  },
  {
   "cell_type": "code",
   "execution_count": 7,
   "id": "93c46e29-8c72-4a4b-adad-e3ae6cb10a70",
   "metadata": {},
   "outputs": [],
   "source": [
    "classifiers = pickle.load(open(\"YoungLab/droplets0521/droplet_models/random_forest.p\", \"rb\"))"
   ]
  },
  {
   "cell_type": "code",
   "execution_count": null,
   "id": "3785099a",
   "metadata": {},
   "outputs": [],
   "source": [
    "PreDATASET = {\n",
    "    'MED1': {'path': 'YoungLab/droplets0521/MED1_dataset.csv',\n",
    "             'key': 'SMILES'\n",
    "            },\n",
    "    'NPM1': {'path': 'YoungLab/droplets0521/NPM1_dataset.csv',\n",
    "            'key': 'SMILES'\n",
    "            },\n",
    "    'HP1a': {'path': 'YoungLab/droplets0521/HP1a_dataset.csv',\n",
    "            'key': 'SMILES'\n",
    "            },\n",
    "    'Nucleocapsid': {'path': 'YoungLab/droplets0521/Nucleocapsid_dataset.csv',\n",
    "                    'key': 'SMILES'}\n",
    "}"
   ]
  },
  {
   "attachments": {},
   "cell_type": "markdown",
   "id": "4603d487",
   "metadata": {},
   "source": [
    "## Fluorophores"
   ]
  },
  {
   "cell_type": "code",
   "execution_count": null,
   "id": "2bace9c3",
   "metadata": {},
   "outputs": [],
   "source": [
    "TEST_DATASET = {\n",
    "    'Fluorophores': {\n",
    "        'path': 'YoungLab/droplets0521/fluorophores.csv',\n",
    "        'col': 'SMILES',\n",
    "        'dl_predictions_dir': 'YoungLab/Condensates_May2021/fluorophores_predictions/'}\n",
    "}"
   ]
  },
  {
   "cell_type": "code",
   "execution_count": null,
   "id": "5bc28c8e",
   "metadata": {},
   "outputs": [],
   "source": [
    "fluorophores = pd.read_csv(TEST_DATASET[\"Fluorophores\"][\"path\"])"
   ]
  },
  {
   "cell_type": "code",
   "execution_count": null,
   "id": "446f6bcd",
   "metadata": {},
   "outputs": [],
   "source": [
    "# Check overlap with previous datasets\n",
    "prev_smiles = []\n",
    "for protein, pdict in PreDATASET.items():\n",
    "    df = pd.read_csv(pdict['path'])\n",
    "    smiles =  list(df[pdict['key']])\n",
    "    prev_smiles.extend([CanonSmiles(s) for s in smiles])\n",
    "prev_smiles = list(set(prev_smiles))"
   ]
  },
  {
   "cell_type": "code",
   "execution_count": null,
   "id": "a63d7f8d",
   "metadata": {},
   "outputs": [],
   "source": [
    "fluorophore_set_smiles = [CanonSmiles(s) for s in list(fluorophores['SMILES'])]\n",
    "\n",
    "prev_smiles_dict = {s: True for s in prev_smiles}\n",
    "fluorophore_set_overlap = [prev_smiles_dict.get(s, False) for s in fluorophore_set_smiles]\n",
    "print('Overlap between blue set and previous datasets: {}'.format(sum(fluorophore_set_overlap)))"
   ]
  },
  {
   "cell_type": "code",
   "execution_count": null,
   "id": "84af40e4",
   "metadata": {},
   "outputs": [],
   "source": [
    "test_predictions = test(TEST_DATASET, classifiers)"
   ]
  },
  {
   "cell_type": "code",
   "execution_count": null,
   "id": "9418bd1b",
   "metadata": {},
   "outputs": [],
   "source": [
    "results = ensemble_chemprop_rf(TRAIN_DATASET, TEST_DATASET, test_predictions)"
   ]
  },
  {
   "cell_type": "code",
   "execution_count": null,
   "id": "0c9a5314",
   "metadata": {},
   "outputs": [],
   "source": [
    "pd.DataFrame(results).to_csv('YoungLab/Condensates_May2021/fluorophores_predict_062721.csv', index = False)"
   ]
  },
  {
   "attachments": {},
   "cell_type": "markdown",
   "id": "1dc9cb46",
   "metadata": {},
   "source": [
    "## Nucleocapsid"
   ]
  },
  {
   "cell_type": "code",
   "execution_count": null,
   "id": "c6934861",
   "metadata": {},
   "outputs": [],
   "source": [
    "PreDATASET.update({\n",
    "    'Fluorophores': {'path': 'YoungLab/droplets0521/fluorophores.csv',\n",
    "                    'key': 'SMILES'},\n",
    "})"
   ]
  },
  {
   "cell_type": "code",
   "execution_count": null,
   "id": "5b4efd95",
   "metadata": {},
   "outputs": [],
   "source": [
    "TEST_DATASET = {\n",
    "    'Nucleocapsid': {\n",
    "        'path': 'YoungLab/Condensates_May2021/Nucleocapsid_dataset.csv',\n",
    "        'col': 'SMILES',\n",
    "        'thresholds': ['HighThreshold', 'MediumThreshold', 'LowThreshold'],\n",
    "        'abbreviations': ['high', 'med', 'low'],\n",
    "        'dl_predictions_dir': 'YoungLab/Condensates_May2021/fluorophores_predictions/nucleocapsid'}\n",
    "}"
   ]
  },
  {
   "cell_type": "code",
   "execution_count": null,
   "id": "2d17237f",
   "metadata": {},
   "outputs": [],
   "source": [
    "test_predictions = test(TEST_DATASET, classifiers)"
   ]
  },
  {
   "cell_type": "code",
   "execution_count": null,
   "id": "2e2b266e",
   "metadata": {},
   "outputs": [],
   "source": [
    "results = ensemble_chemprop_rf(TRAIN_DATASET, TEST_DATASET, test_predictions)"
   ]
  },
  {
   "cell_type": "code",
   "execution_count": null,
   "id": "8baff762",
   "metadata": {},
   "outputs": [],
   "source": [
    "pd.DataFrame(results).to_csv('YoungLab/Condensates_May2021/fluorophores_predict_080621.csv', index = False)"
   ]
  },
  {
   "attachments": {},
   "cell_type": "markdown",
   "id": "4688c23c",
   "metadata": {},
   "source": [
    "## FDA Drugs"
   ]
  },
  {
   "cell_type": "code",
   "execution_count": null,
   "metadata": {},
   "outputs": [],
   "source": [
    "PreDATASET.update({\n",
    "    'Nucleocapsid': {'path': 'YoungLab/droplets0521/Nucleocapsid_dataset.csv',\n",
    "                    'key': 'SMILES'}\n",
    "})"
   ]
  },
  {
   "cell_type": "code",
   "execution_count": null,
   "id": "d0585d0a",
   "metadata": {},
   "outputs": [],
   "source": [
    "TEST_DATASET = {\n",
    "    'FDA': {\n",
    "        'path': 'YoungLab/FDA/CorrectedFDA_Dataset.csv',\n",
    "        'col': 'HARMONIZED_SMILES',\n",
    "        'dl_predictions_dir': 'YoungLab/FDA/predictions/'}\n",
    "}"
   ]
  },
  {
   "cell_type": "code",
   "execution_count": null,
   "id": "db118958",
   "metadata": {},
   "outputs": [],
   "source": [
    "test_predictions = test(TEST_DATASET, classifiers)"
   ]
  },
  {
   "cell_type": "code",
   "execution_count": null,
   "id": "cf5435fe",
   "metadata": {},
   "outputs": [],
   "source": [
    "results = ensemble_chemprop_rf(TRAIN_DATASET, TEST_DATASET, test_predictions, use_random_forest_preds = False)"
   ]
  },
  {
   "cell_type": "code",
   "execution_count": null,
   "id": "79eaf361",
   "metadata": {},
   "outputs": [],
   "source": [
    "results.to_csv('YoungLab/FDA/chemprop_predictions.csv', index = False)"
   ]
  },
  {
   "attachments": {},
   "cell_type": "markdown",
   "id": "8ef83cf1-63d1-4240-8f77-619d63b69864",
   "metadata": {
    "jp-MarkdownHeadingCollapsed": true,
    "tags": []
   },
   "source": [
    "## Blue Set"
   ]
  },
  {
   "cell_type": "code",
   "execution_count": 24,
   "id": "93702623",
   "metadata": {
    "tags": []
   },
   "outputs": [],
   "source": [
    "PreDATASET.update({\n",
    "    'FDA': {'path': 'YoungLab/droplets0521/FDA/CorrectedFDA_Dataset.csv',\n",
    "           'key': 'HARMONIZED_SMILES'},\n",
    "})"
   ]
  },
  {
   "cell_type": "code",
   "execution_count": 11,
   "id": "7d2c84e9",
   "metadata": {},
   "outputs": [],
   "source": [
    "TEST_DATASET = {\n",
    "    'BlueSet': {\n",
    "        'path': 'YoungLab/droplets0521/nuclei_nucleocapsid_blue_set_dataset.csv',\n",
    "        'col': 'SMILES',\n",
    "        'dl_predictions_dir': 'YoungLab/droplets0521/blue_set_predictions/'}\n",
    "}"
   ]
  },
  {
   "cell_type": "code",
   "execution_count": 10,
   "id": "e3c13613",
   "metadata": {},
   "outputs": [],
   "source": [
    "blue_set = pd.read_csv(TEST_DATASET[\"BlueSet\"][\"path\"])"
   ]
  },
  {
   "cell_type": "code",
   "execution_count": 37,
   "id": "080fed81",
   "metadata": {},
   "outputs": [],
   "source": [
    "# Check overlap with previous datasets\n",
    "prev_smiles = []\n",
    "for protein, pdict in PreDATASET.items():\n",
    "    df = pd.read_csv(pdict['path'])\n",
    "    smiles =  list(df[pdict['key']])\n",
    "    prev_smiles.extend([CanonSmiles(s) for s in smiles])\n",
    "prev_smiles = list(set(prev_smiles))"
   ]
  },
  {
   "cell_type": "code",
   "execution_count": 42,
   "id": "4a2eb6b5",
   "metadata": {},
   "outputs": [],
   "source": [
    "blue_set_smiles = [CanonSmiles(s) for s in list(blue_set['SMILES'])]"
   ]
  },
  {
   "cell_type": "code",
   "execution_count": 46,
   "id": "ea066a06",
   "metadata": {},
   "outputs": [
    {
     "name": "stdout",
     "output_type": "stream",
     "text": [
      "Overlap between blue set and previous datasets: 0\n"
     ]
    }
   ],
   "source": [
    "prev_smiles_dict = {s: True for s in prev_smiles}\n",
    "blue_set_overlap = [prev_smiles_dict.get(s, False) for s in blue_set_smiles]\n",
    "print('Overlap between blue set and previous datasets: {}'.format(sum(blue_set_overlap)))"
   ]
  },
  {
   "cell_type": "code",
   "execution_count": 110,
   "id": "0e5599a1",
   "metadata": {},
   "outputs": [
    {
     "name": "stdout",
     "output_type": "stream",
     "text": [
      "Testing on BlueSet\n"
     ]
    }
   ],
   "source": [
    "# TEST\n",
    "test_predictions = test(TEST_DATASET, classifiers)"
   ]
  },
  {
   "cell_type": "code",
   "execution_count": 124,
   "id": "03ebe336",
   "metadata": {},
   "outputs": [],
   "source": [
    "ens_preds = ensemble_chemprop_rf(TRAIN_DATASET, TEST_DATASET, test_predictions)"
   ]
  },
  {
   "cell_type": "code",
   "execution_count": 127,
   "id": "ba73e42e",
   "metadata": {},
   "outputs": [
    {
     "name": "stdout",
     "output_type": "stream",
     "text": [
      "MED1_>Threshold1 185\n",
      "MED1_>Threshold2 197\n",
      "MED1_>Threshold3 333\n",
      "NPM1_>Threshold1 267\n",
      "NPM1_>Threshold2 410\n",
      "NPM1_>Threshold3 339\n",
      "HP1a_>Threshold1 278\n",
      "HP1a_>Threshold2 186\n",
      "HP1a_>Threshold3 261\n",
      "Nucleocapsid_>HighThreshold 16\n",
      "Nucleocapsid_>MediumThreshold 23\n",
      "Nucleocapsid_>LowThreshold 492\n"
     ]
    }
   ],
   "source": [
    "for k, v in ens_preds.items():\n",
    "    print(k, sum(v))"
   ]
  },
  {
   "cell_type": "code",
   "execution_count": 129,
   "id": "863eccf4",
   "metadata": {},
   "outputs": [],
   "source": [
    "pd.DataFrame(ens_preds).to_csv('blue_set_predictions.csv')"
   ]
  },
  {
   "attachments": {},
   "cell_type": "markdown",
   "id": "7528ba52-cfd5-43b3-968a-9e3fe18745e6",
   "metadata": {
    "jp-MarkdownHeadingCollapsed": true,
    "tags": []
   },
   "source": [
    "## Drug Fluorophores"
   ]
  },
  {
   "cell_type": "code",
   "execution_count": 18,
   "id": "4956be40",
   "metadata": {},
   "outputs": [],
   "source": [
    "DRUG_FLUOROPHORES_DATASET = {\n",
    "    'DrugFluorophores': {\n",
    "        'path': 'YoungLab/droplets0521/more_fluorescent_drugs_072922.csv',\n",
    "        'col': 'SMILES',\n",
    "        'dl_predictions_dir': 'YoungLab/droplets0521/fluorescent_drugs_predictions/'}\n",
    "}"
   ]
  },
  {
   "cell_type": "code",
   "execution_count": 20,
   "id": "71dfa053-9dfa-4db9-8703-1887aeba8cea",
   "metadata": {},
   "outputs": [],
   "source": [
    "drug_fluoro_test = pd.read_csv(DRUG_FLUOROPHORES_DATASET[\"DrugFluorophores\"][\"path\"])"
   ]
  },
  {
   "cell_type": "code",
   "execution_count": 54,
   "id": "f6068544-fa76-4e9f-9895-bc99cc2eec8f",
   "metadata": {},
   "outputs": [],
   "source": [
    "# Check overlap with previous datasets\n",
    "prev_smiles = []\n",
    "for protein, pdict in PreDATASET.items():\n",
    "    df = pd.read_csv(pdict['path'])\n",
    "    smiles =  list(df[pdict['key']])\n",
    "    prev_smiles.extend([CanonSmiles(s) for s in smiles])\n",
    "prev_smiles = list(set(prev_smiles))"
   ]
  },
  {
   "cell_type": "code",
   "execution_count": 55,
   "id": "d1c03bae-921b-41fb-8bce-c2149bd79a1f",
   "metadata": {},
   "outputs": [],
   "source": [
    "drug_fluoro_smiles = [CanonSmiles(s) for s in list(drug_fluoro_test['SMILES'])]"
   ]
  },
  {
   "cell_type": "code",
   "execution_count": 56,
   "id": "7addc8b1-1dc2-4e43-8460-5bab2de6843a",
   "metadata": {},
   "outputs": [
    {
     "name": "stdout",
     "output_type": "stream",
     "text": [
      "Overlap between fluorescent drug set and previous datasets: 7\n"
     ]
    }
   ],
   "source": [
    "prev_smiles_dict = {s: True for s in prev_smiles}\n",
    "drug_fluoro_overlap = [prev_smiles_dict.get(s, False) for s in drug_fluoro_smiles]\n",
    "print('Overlap between fluorescent drug set and previous datasets: {}'.format(sum(drug_fluoro_overlap)))"
   ]
  },
  {
   "cell_type": "code",
   "execution_count": 57,
   "id": "5e68e8e2-d38e-4745-a223-23ada6fa2fe6",
   "metadata": {},
   "outputs": [
    {
     "data": {
      "text/plain": [
       "['COC(=O)c1ccc2c(C(=Nc3ccc(N(C)C(=O)CN4CCN(C)CC4)cc3)c3ccccc3)c(O)[nH]c2c1',\n",
       " 'Cc1[nH]c(/C=C2\\\\C(=O)Nc3ccccc32)c(C)c1CCC(=O)O',\n",
       " 'Cc1ccc(C(=O)Nc2ccc(CN3CCN(C)CC3)c(C(F)(F)F)c2)cc1C#Cc1cnc2cccnn12',\n",
       " 'COc1cc2nccc(Oc3ccc(NC(=O)C4(C(=O)Nc5ccc(F)cc5)CC4)cc3)c2cc1OC',\n",
       " 'CCOc1cc2ncc(C#N)c(Nc3ccc(F)c(Cl)c3)c2cc1NC(=O)/C=C/CN(C)C',\n",
       " 'O=c1c(-c2ccc(O)cc2)coc2cc(O)ccc12',\n",
       " 'O=c1c(-c2ccc(O)cc2)coc2cc(O)cc(O)c12']"
      ]
     },
     "execution_count": 57,
     "metadata": {},
     "output_type": "execute_result"
    }
   ],
   "source": [
    "[s for s in drug_fluoro_smiles if prev_smiles_dict.get(s, False) ]"
   ]
  },
  {
   "cell_type": "code",
   "execution_count": 65,
   "id": "51c5a2fd-690d-4e6a-bbe1-16c8bd799295",
   "metadata": {},
   "outputs": [
    {
     "name": "stdout",
     "output_type": "stream",
     "text": [
      "Testing on DrugFluorophores\n"
     ]
    }
   ],
   "source": [
    "# TEST\n",
    "fluoro_drugs_predictions = test(DRUG_FLUOROPHORES_DATASET, classifiers)"
   ]
  },
  {
   "cell_type": "code",
   "execution_count": 69,
   "id": "df1a401b-3572-49da-94cf-f0ac7fcb712c",
   "metadata": {},
   "outputs": [
    {
     "name": "stdout",
     "output_type": "stream",
     "text": [
      "MED1_tau1, num positive 0\n",
      "MED1_tau2, num positive 0\n",
      "MED1_tau3, num positive 0\n",
      "NPM1_tau1, num positive 0\n",
      "NPM1_tau2, num positive 0\n",
      "NPM1_tau3, num positive 0\n",
      "HP1a_tau1, num positive 0\n",
      "HP1a_tau2, num positive 0\n",
      "HP1a_tau3, num positive 0\n",
      "Nucleocapsid_high, num positive 0\n",
      "Nucleocapsid_med, num positive 0\n",
      "Nucleocapsid_low, num positive 44\n"
     ]
    }
   ],
   "source": [
    "for k,v in fluoro_drugs_predictions['DrugFluorophores'].items():\n",
    "    print(f\"{k}, num positive {v.sum()}\")"
   ]
  },
  {
   "attachments": {},
   "cell_type": "markdown",
   "id": "1e6480f1-5c03-425a-a00c-5cf3289c4345",
   "metadata": {
    "jp-MarkdownHeadingCollapsed": true,
    "tags": []
   },
   "source": [
    "## Lotto Plate 12/22"
   ]
  },
  {
   "cell_type": "code",
   "execution_count": 5,
   "id": "0d89c60f-5d9b-44b9-a0da-9609d5aaf378",
   "metadata": {},
   "outputs": [],
   "source": [
    "LOTTO_DATASET = {\n",
    "    'Lotto': {\n",
    "        'path': 'YoungLab/droplets0521/lotto_plate_structures_predictions_121622.csv',\n",
    "        'col': 'SMILES',\n",
    "        'dl_predictions_dir': 'YoungLab/droplets0521/lotto_121622_predictions/'}\n",
    "}"
   ]
  },
  {
   "cell_type": "code",
   "execution_count": 6,
   "id": "e6b924a7-0a8d-427e-beb4-cc97b4adf58c",
   "metadata": {},
   "outputs": [],
   "source": [
    "lotto_test = pd.read_csv(LOTTO_DATASET[\"Lotto\"][\"path\"])"
   ]
  },
  {
   "cell_type": "code",
   "execution_count": 12,
   "id": "af9c59ab-46c8-471b-8bf4-6e1d1f473a74",
   "metadata": {},
   "outputs": [
    {
     "name": "stdout",
     "output_type": "stream",
     "text": [
      "Overlap between fluorescent drug set and previous datasets: 0\n"
     ]
    }
   ],
   "source": [
    "# Check overlap with previous datasets\n",
    "prev_smiles = []\n",
    "for protein, pdict in PreDATASET.items():\n",
    "    df = pd.read_csv(pdict['path'])\n",
    "    smiles =  list(df[pdict['key']])\n",
    "    prev_smiles.extend([CanonSmiles(s) for s in smiles])\n",
    "prev_smiles = list(set(prev_smiles))\n",
    "\n",
    "lotto_test_smiles = [CanonSmiles(s) for s in list(lotto_test['SMILES'])]\n",
    "\n",
    "prev_smiles_dict = {s: True for s in prev_smiles}\n",
    "lotto_fluoro_overlap = [prev_smiles_dict.get(s, False) for s in lotto_test_smiles]\n",
    "print('Overlap between fluorescent drug set and previous datasets: {}'.format(sum(lotto_fluoro_overlap)))"
   ]
  },
  {
   "cell_type": "code",
   "execution_count": 13,
   "id": "8c599cb7-cda1-46e9-81a2-61f2f37b2274",
   "metadata": {},
   "outputs": [
    {
     "name": "stdout",
     "output_type": "stream",
     "text": [
      "Testing on Lotto\n"
     ]
    }
   ],
   "source": [
    "# TEST\n",
    "lotto_test_predictions = test(LOTTO_DATASET, classifiers)"
   ]
  },
  {
   "cell_type": "code",
   "execution_count": 14,
   "id": "d4493759-bb06-41cc-babf-3d13061cbbfe",
   "metadata": {},
   "outputs": [
    {
     "data": {
      "text/plain": [
       "dict_keys(['Lotto'])"
      ]
     },
     "execution_count": 14,
     "metadata": {},
     "output_type": "execute_result"
    }
   ],
   "source": [
    "lotto_test_predictions.keys()"
   ]
  },
  {
   "cell_type": "code",
   "execution_count": 16,
   "id": "c8ff91ca-020f-4758-85bb-c6f717794732",
   "metadata": {},
   "outputs": [
    {
     "name": "stdout",
     "output_type": "stream",
     "text": [
      "MED1_tau1, num positive 0\n",
      "MED1_tau2, num positive 0\n",
      "MED1_tau3, num positive 0\n",
      "NPM1_tau1, num positive 0\n",
      "NPM1_tau2, num positive 0\n",
      "NPM1_tau3, num positive 0\n",
      "HP1a_tau1, num positive 0\n",
      "HP1a_tau2, num positive 1\n",
      "HP1a_tau3, num positive 18\n",
      "Nucleocapsid_high, num positive 0\n",
      "Nucleocapsid_med, num positive 11\n",
      "Nucleocapsid_low, num positive 202\n"
     ]
    }
   ],
   "source": [
    "for k,v in lotto_test_predictions['Lotto'].items():\n",
    "    print(f\"{k}, num positive {v.sum()}\")"
   ]
  },
  {
   "cell_type": "code",
   "execution_count": 19,
   "id": "1d4e4cc8-1265-4b41-942a-50946cee0804",
   "metadata": {},
   "outputs": [
    {
     "data": {
      "text/plain": [
       "dict_keys(['MED1_tau1', 'MED1_tau2', 'MED1_tau3', 'NPM1_tau1', 'NPM1_tau2', 'NPM1_tau3', 'HP1a_tau1', 'HP1a_tau2', 'HP1a_tau3', 'Nucleocapsid_high', 'Nucleocapsid_med', 'Nucleocapsid_low'])"
      ]
     },
     "execution_count": 19,
     "metadata": {},
     "output_type": "execute_result"
    }
   ],
   "source": [
    "lotto_test_predictions['Lotto'].keys()"
   ]
  },
  {
   "cell_type": "code",
   "execution_count": null,
   "id": "fa4c9635-d2c8-47ca-aa43-5a2256b473f0",
   "metadata": {},
   "outputs": [],
   "source": [
    "collected_results = ensemble_chemprop_rf(TRAIN_DATASET, LOTTO_DATASET, lotto_test_predictions, use_random_forest_preds = False)"
   ]
  },
  {
   "cell_type": "code",
   "execution_count": 49,
   "id": "4c10ad9b-9075-4fdd-a153-e7a5e0cfdb80",
   "metadata": {},
   "outputs": [],
   "source": [
    "pd.DataFrame(collected_results).to_csv(\"lotto.csv\", index=False)"
   ]
  }
 ],
 "metadata": {
  "kernelspec": {
   "display_name": "Python 3 (ipykernel)",
   "language": "python",
   "name": "python3"
  },
  "language_info": {
   "codemirror_mode": {
    "name": "ipython",
    "version": 3
   },
   "file_extension": ".py",
   "mimetype": "text/x-python",
   "name": "python",
   "nbconvert_exporter": "python",
   "pygments_lexer": "ipython3",
   "version": "3.9.1"
  }
 },
 "nbformat": 4,
 "nbformat_minor": 5
}
